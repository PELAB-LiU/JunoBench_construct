{
 "cells": [
  {
   "cell_type": "code",
   "execution_count": 1,
   "id": "a0a8e9cb",
   "metadata": {},
   "outputs": [],
   "source": [
    "# import importlib\n",
    "# importlib.reload(util)\n",
    "# import utils.util as util"
   ]
  },
  {
   "cell_type": "markdown",
   "id": "1b1bb2d6",
   "metadata": {},
   "source": [
    "### test automatic lib cause extraction"
   ]
  },
  {
   "cell_type": "code",
   "execution_count": 2,
   "id": "10399943",
   "metadata": {},
   "outputs": [
    {
     "name": "stdout",
     "output_type": "stream",
     "text": [
      "path_default=WindowsPath('C:/Users/yirwa29/Downloads/Benchmark_construct')\n"
     ]
    },
    {
     "name": "stderr",
     "output_type": "stream",
     "text": [
      "C:\\Users\\yirwa29\\AppData\\Local\\anaconda3\\envs\\chatgpt\\Lib\\site-packages\\openpyxl\\worksheet\\_reader.py:329: UserWarning: Data Validation extension is not supported and will be removed\n",
      "  warn(msg)\n"
     ]
    }
   ],
   "source": [
    "import pandas as pd\n",
    "import utils.config as config\n",
    "import utils.util as util\n",
    "\n",
    "df_bm_labels = pd.read_excel(config.path_kaggle_benchmark_sheet_new, keep_default_na=False)"
   ]
  },
  {
   "cell_type": "code",
   "execution_count": 3,
   "id": "a55b4490",
   "metadata": {},
   "outputs": [],
   "source": [
    "df_bm_labels = df_bm_labels.iloc[:100]\n",
    "# df_bm_labels.loc[df_bm_labels[\"Libs-cause\"].isin([\"keras\", \"tensorflow\"]), \"Libs-cause\"] = \"tensorflow/keras\""
   ]
  },
  {
   "cell_type": "code",
   "execution_count": 6,
   "id": "c0b6d4ca",
   "metadata": {},
   "outputs": [
    {
     "name": "stdout",
     "output_type": "stream",
     "text": [
      "exception when listing traceback\n"
     ]
    }
   ],
   "source": [
    "df_bm_labels[\"Libs-cause-auto\"] = df_bm_labels[\"traceback\"].map(util.detect_library_from_traceback)"
   ]
  },
  {
   "cell_type": "code",
   "execution_count": 9,
   "id": "76b8e692",
   "metadata": {},
   "outputs": [],
   "source": [
    "df_bm_labels.loc[df_bm_labels[\"Libs-cause\"].isin([\"keras\", \"tensorflow\"]), \"Libs-cause\"] = \"tensorflow/keras\"\n",
    "df_bm_labels.loc[df_bm_labels[\"Libs-cause-auto\"].isin([\"keras\", \"tensorflow\"]), \"Libs-cause-auto\"] = \"tensorflow/keras\""
   ]
  },
  {
   "cell_type": "code",
   "execution_count": 12,
   "id": "e8e822f2",
   "metadata": {},
   "outputs": [
    {
     "name": "stdout",
     "output_type": "stream",
     "text": [
      "The automatic lib cause extraction is  80.49%\n"
     ]
    }
   ],
   "source": [
    "align_perc = sum((df_bm_labels[\"Libs-cause\"]!=\"\")&(df_bm_labels[\"Libs-cause-auto\"]==df_bm_labels[\"Libs-cause\"]))/sum(df_bm_labels[\"Libs-cause\"]!=\"\")\n",
    "print(f\"The automatic lib cause extraction is {align_perc*100: .2f}%\")"
   ]
  }
 ],
 "metadata": {
  "kernelspec": {
   "display_name": "Python 3 (ipykernel)",
   "language": "python",
   "name": "python3"
  },
  "language_info": {
   "codemirror_mode": {
    "name": "ipython",
    "version": 3
   },
   "file_extension": ".py",
   "mimetype": "text/x-python",
   "name": "python",
   "nbconvert_exporter": "python",
   "pygments_lexer": "ipython3",
   "version": "3.11.5"
  }
 },
 "nbformat": 4,
 "nbformat_minor": 5
}
